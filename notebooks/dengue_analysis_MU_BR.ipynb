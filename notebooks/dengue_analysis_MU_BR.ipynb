{
 "cells": [
  {
   "cell_type": "markdown",
   "metadata": {},
   "source": [
    "# Dengue Analysis for Municipalities"
   ]
  },
  {
   "cell_type": "markdown",
   "metadata": {},
   "source": [
    "## 0. Imports"
   ]
  },
  {
   "cell_type": "markdown",
   "metadata": {},
   "source": [
    "### 0.1. Libraries"
   ]
  },
  {
   "cell_type": "code",
   "execution_count": null,
   "metadata": {},
   "outputs": [],
   "source": [
    "# Data manipulation libraries\n",
    "import pandas                as pd\n",
    "import numpy                 as np\n",
    "\n",
    "# Visualization libraries\n",
    "import seaborn               as sns\n",
    "import matplotlib            as mpl\n",
    "import matplotlib.pyplot     as plt\n",
    "\n",
    "from matplotlib              import cm\n",
    "from matplotlib.colors       import Normalize\n",
    "\n",
    "from mpl_toolkits.axes_grid1 import make_axes_locatable\n",
    "\n",
    "# import plotly.express       as px\n",
    "# import plotly.graph_objects as go\n",
    "\n",
    "# Geo libraries\n",
    "import geopandas             as gpd\n",
    "\n",
    "# Other\n",
    "import warnings\n",
    "import sys\n",
    "import os"
   ]
  },
  {
   "cell_type": "markdown",
   "metadata": {},
   "source": [
    "### 0.2. Settings"
   ]
  },
  {
   "cell_type": "code",
   "execution_count": null,
   "metadata": {},
   "outputs": [],
   "source": [
    "# Ignoring warnings\n",
    "warnings.filterwarnings('ignore')\n",
    "\n",
    "# Pandas Settings\n",
    "pd.set_option('display.float_format', lambda x: '%.2f' % x)\n",
    "pd.set_option('display.max_columns', None)\n",
    "\n",
    "# Directory Settings\n",
    "notebook_dir = os.getcwd()\n",
    "project_root = os.path.abspath(os.path.join(notebook_dir, '..'))\n",
    "src_path     = os.path.join(project_root, 'src')\n",
    "sys.path.append(src_path)\n",
    "\n",
    "# Visualization Settings\n",
    "%matplotlib inline\n",
    "\n",
    "# Set a style\n",
    "mpl.style.use('ggplot')  \n",
    "\n",
    "# Customize rcParams\n",
    "mpl.rcParams.update({\n",
    "    'axes.titlesize': 24,\n",
    "    'axes.labelsize': 16,\n",
    "    'axes.facecolor': 'white',\n",
    "    'axes.linewidth': 1,\n",
    "    'axes.grid': True,\n",
    "    'xtick.labelsize': 14,\n",
    "    'xtick.color': 'black',\n",
    "    'ytick.labelsize': 14,\n",
    "    'ytick.color': 'black',\n",
    "    'legend.fontsize': 12,\n",
    "    'lines.linewidth': 2,\n",
    "    'lines.markersize': 6,\n",
    "    'grid.color': 'lightgray',\n",
    "    'grid.linestyle': '-',\n",
    "    'grid.linewidth': 0.5,\n",
    "    'font.size': 12,\n",
    "    'font.family': 'sans-serif',\n",
    "    'font.sans-serif': ['Arial'],\n",
    "    'figure.titlesize': 24,\n",
    "    'figure.figsize': (18, 9),\n",
    "    'figure.dpi': 150\n",
    "})"
   ]
  },
  {
   "cell_type": "markdown",
   "metadata": {},
   "source": [
    "### 0.3. Functions"
   ]
  },
  {
   "cell_type": "code",
   "execution_count": null,
   "metadata": {},
   "outputs": [],
   "source": [
    "def set_plot(fig, title, xlabel, ylabel):\n",
    "    \"\"\"\n",
    "    Summary: This function sets the plot configuration for the initial plots. \n",
    "    Args:\n",
    "        fig: the figure object.\n",
    "        title: the title of the plot.\n",
    "        xlabel: the label for the x axis.\n",
    "        ylabel: the label for the y axis.\n",
    "    Returns: figure with the image configuration.\n",
    "    \"\"\"\n",
    "    # Customizing\n",
    "    fig.set_title(title)\n",
    "    fig.set_xlabel(xlabel, color='black')\n",
    "    fig.set_ylabel(ylabel, color='black')\n",
    "    fig.tick_params(left=False, bottom=False)\n",
    "\n",
    "    return fig"
   ]
  },
  {
   "cell_type": "markdown",
   "metadata": {},
   "source": [
    "### 0.4. Classes"
   ]
  },
  {
   "cell_type": "markdown",
   "metadata": {},
   "source": [
    "### 0.5. Datasets"
   ]
  },
  {
   "cell_type": "code",
   "execution_count": null,
   "metadata": {},
   "outputs": [],
   "source": [
    "# Casos\n",
    "df_casos = pd.read_csv('../data/interim/mun_dengue_casos_amazonia_legal.csv')\n",
    "\n",
    "# Óbitos\n",
    "df_obitos = pd.read_csv('../data/interim/mun_dengue_obitos_amazonia_legal.csv')"
   ]
  },
  {
   "cell_type": "code",
   "execution_count": null,
   "metadata": {},
   "outputs": [],
   "source": [
    "# População\n",
    "df_pop = pd.read_csv('../data/interim/mun_populacao.csv')"
   ]
  },
  {
   "cell_type": "code",
   "execution_count": null,
   "metadata": {},
   "outputs": [],
   "source": [
    "# GeoDataFrame MU Brasil\n",
    "gdf = gpd.read_file('../data/interim/amazonia_legal.geojson')"
   ]
  },
  {
   "cell_type": "code",
   "execution_count": null,
   "metadata": {},
   "outputs": [],
   "source": [
    "# Amazônia Legal Brasileira\n",
    "alb = pd.read_csv('../data/interim/mun_amazonia_legal.csv')"
   ]
  },
  {
   "cell_type": "markdown",
   "metadata": {},
   "source": [
    "## 1. Data Preparation"
   ]
  },
  {
   "cell_type": "code",
   "execution_count": null,
   "metadata": {},
   "outputs": [],
   "source": []
  },
  {
   "cell_type": "code",
   "execution_count": null,
   "metadata": {},
   "outputs": [],
   "source": [
    "# Organizando dados de população \n",
    "\n",
    "# População\n",
    "df_pop = pd.read_csv('../data/interim/mun_populacao.csv')\n",
    "\n",
    "# Lista de municípios da ALB\n",
    "lista_mun_alb = alb.cod_ibge.to_list()\n",
    "\n",
    "# Filtrando os dados\n",
    "df_pop = df_pop[df_pop['cod_ibge'].isin(lista_mun_alb)]\n",
    "\n",
    "# Ajustando os anos\n",
    "df_pop['2023'] = df_pop['2022']\n",
    "\n",
    "# Dropping \n",
    "df_pop.drop(columns=['nome_municipio', 'sigla_UF'], inplace=True)\n",
    "\n",
    "# Melt\n",
    "df_pop = pd.melt(df_pop, id_vars=['cod_ibge', 'id_mun'], var_name='ano', value_name='pop')\n",
    "\n",
    "# Changing types\n",
    "# df_pop = df_pop.astype('int64')"
   ]
  },
  {
   "cell_type": "markdown",
   "metadata": {},
   "source": [
    "## 2. Data Exploration"
   ]
  },
  {
   "cell_type": "markdown",
   "metadata": {},
   "source": [
    "## 3. Data Statistics"
   ]
  }
 ],
 "metadata": {
  "kernelspec": {
   "display_name": "geo_env",
   "language": "python",
   "name": "python3"
  },
  "language_info": {
   "codemirror_mode": {
    "name": "ipython",
    "version": 3
   },
   "file_extension": ".py",
   "mimetype": "text/x-python",
   "name": "python",
   "nbconvert_exporter": "python",
   "pygments_lexer": "ipython3",
   "version": "3.10.12"
  }
 },
 "nbformat": 4,
 "nbformat_minor": 2
}
