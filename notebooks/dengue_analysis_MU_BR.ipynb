{
 "cells": [
  {
   "cell_type": "markdown",
   "metadata": {},
   "source": [
    "# Dengue Analysis for Municipalities"
   ]
  },
  {
   "cell_type": "markdown",
   "metadata": {},
   "source": [
    "## 0. Imports"
   ]
  },
  {
   "cell_type": "markdown",
   "metadata": {},
   "source": [
    "### 0.1. Libraries"
   ]
  },
  {
   "cell_type": "code",
   "execution_count": null,
   "metadata": {},
   "outputs": [],
   "source": [
    "# Data manipulation libraries\n",
    "import pandas                as pd\n",
    "import numpy                 as np\n",
    "\n",
    "# Visualization libraries\n",
    "import seaborn               as sns\n",
    "import matplotlib            as mpl\n",
    "import matplotlib.pyplot     as plt\n",
    "\n",
    "from matplotlib              import cm\n",
    "from matplotlib.colors       import Normalize\n",
    "\n",
    "from mpl_toolkits.axes_grid1 import make_axes_locatable\n",
    "\n",
    "# import plotly.express       as px\n",
    "# import plotly.graph_objects as go\n",
    "\n",
    "# Geo libraries\n",
    "import geopandas             as gpd\n",
    "\n",
    "# Other\n",
    "import warnings\n",
    "import sys\n",
    "import os"
   ]
  },
  {
   "cell_type": "markdown",
   "metadata": {},
   "source": [
    "### 0.2. Settings"
   ]
  },
  {
   "cell_type": "code",
   "execution_count": null,
   "metadata": {},
   "outputs": [],
   "source": [
    "# Ignoring warnings\n",
    "warnings.filterwarnings('ignore')\n",
    "\n",
    "# Pandas Settings\n",
    "pd.set_option('display.float_format', lambda x: '%.2f' % x)\n",
    "pd.set_option('display.max_columns', None)\n",
    "\n",
    "# Directory Settings\n",
    "notebook_dir = os.getcwd()\n",
    "project_root = os.path.abspath(os.path.join(notebook_dir, '..'))\n",
    "src_path     = os.path.join(project_root, 'src')\n",
    "sys.path.append(src_path)\n",
    "\n",
    "# Visualization Settings\n",
    "%matplotlib inline\n",
    "\n",
    "# Set a style\n",
    "mpl.style.use('ggplot')  \n",
    "\n",
    "# Customize rcParams\n",
    "mpl.rcParams.update({\n",
    "    'axes.titlesize': 24,\n",
    "    'axes.labelsize': 16,\n",
    "    'axes.facecolor': 'white',\n",
    "    'axes.linewidth': 1,\n",
    "    'axes.grid': True,\n",
    "    'xtick.labelsize': 14,\n",
    "    'xtick.color': 'black',\n",
    "    'ytick.labelsize': 14,\n",
    "    'ytick.color': 'black',\n",
    "    'legend.fontsize': 12,\n",
    "    'lines.linewidth': 2,\n",
    "    'lines.markersize': 6,\n",
    "    'grid.color': 'lightgray',\n",
    "    'grid.linestyle': '-',\n",
    "    'grid.linewidth': 0.5,\n",
    "    'font.size': 12,\n",
    "    'font.family': 'sans-serif',\n",
    "    'font.sans-serif': ['Arial'],\n",
    "    'figure.titlesize': 24,\n",
    "    'figure.figsize': (18, 9),\n",
    "    'figure.dpi': 150\n",
    "})"
   ]
  },
  {
   "cell_type": "markdown",
   "metadata": {},
   "source": [
    "### 0.3. Functions"
   ]
  },
  {
   "cell_type": "code",
   "execution_count": null,
   "metadata": {},
   "outputs": [],
   "source": [
    "def set_plot(fig, title, xlabel, ylabel):\n",
    "    \"\"\"\n",
    "    Summary: This function sets the plot configuration for the initial plots. \n",
    "    Args:\n",
    "        fig: the figure object.\n",
    "        title: the title of the plot.\n",
    "        xlabel: the label for the x axis.\n",
    "        ylabel: the label for the y axis.\n",
    "    Returns: figure with the image configuration.\n",
    "    \"\"\"\n",
    "    # Customizing\n",
    "    fig.set_title(title)\n",
    "    fig.set_xlabel(xlabel, color='black')\n",
    "    fig.set_ylabel(ylabel, color='black')\n",
    "    fig.tick_params(left=False, bottom=False)\n",
    "\n",
    "    return fig"
   ]
  },
  {
   "cell_type": "markdown",
   "metadata": {},
   "source": [
    "### 0.4. Classes"
   ]
  },
  {
   "cell_type": "markdown",
   "metadata": {},
   "source": [
    "### 0.5. Datasets"
   ]
  },
  {
   "cell_type": "code",
   "execution_count": null,
   "metadata": {},
   "outputs": [],
   "source": []
  },
  {
   "cell_type": "code",
   "execution_count": null,
   "metadata": {},
   "outputs": [],
   "source": [
    "# População\n",
    "df_pop = pd.read_csv('../data/interim/uf_populacao.csv')"
   ]
  },
  {
   "cell_type": "code",
   "execution_count": null,
   "metadata": {},
   "outputs": [],
   "source": [
    "# GeoDataFrame MU Brasil\n",
    "gdf = gpd.read_file('../data/interim/amazonia_legal.geojson')"
   ]
  },
  {
   "cell_type": "markdown",
   "metadata": {},
   "source": [
    "## 1. Data Preparation"
   ]
  },
  {
   "cell_type": "markdown",
   "metadata": {},
   "source": [
    "## 2. Data Exploration"
   ]
  },
  {
   "cell_type": "markdown",
   "metadata": {},
   "source": [
    "## 3. Data Statistics"
   ]
  }
 ],
 "metadata": {
  "language_info": {
   "name": "python"
  }
 },
 "nbformat": 4,
 "nbformat_minor": 2
}
