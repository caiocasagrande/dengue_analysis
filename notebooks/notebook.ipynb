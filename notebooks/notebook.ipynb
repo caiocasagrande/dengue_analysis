{
 "cells": [
  {
   "cell_type": "code",
   "execution_count": null,
   "metadata": {},
   "outputs": [],
   "source": [
    "# Data manipulation libraries\n",
    "import pandas               as pd\n",
    "import numpy                as np\n",
    "\n",
    "# Visualization libraries\n",
    "# import seaborn              as sns\n",
    "import matplotlib           as mpl\n",
    "# import matplotlib.pyplot    as plt\n",
    "\n",
    "# import plotly.express       as px\n",
    "# import plotly.graph_objects as go\n",
    "\n",
    "# Other\n",
    "import warnings\n",
    "import sys\n",
    "import os"
   ]
  },
  {
   "cell_type": "code",
   "execution_count": null,
   "metadata": {},
   "outputs": [],
   "source": [
    "# Ignoring warnings\n",
    "warnings.filterwarnings('ignore')\n",
    "\n",
    "# Pandas Settings\n",
    "pd.set_option('display.float_format', lambda x: '%.2f' % x)\n",
    "pd.set_option('display.max_columns', None)\n",
    "\n",
    "# Visualization Settings\n",
    "%matplotlib inline\n",
    "\n",
    "# Set a style\n",
    "mpl.style.use('ggplot')  \n",
    "\n",
    "# Customize rcParams\n",
    "mpl.rcParams.update({\n",
    "    'figure.titlesize': 24,\n",
    "    'figure.figsize': (18, 6),\n",
    "    'figure.dpi': 150,\n",
    "    'axes.titlesize': 14,\n",
    "    'axes.labelsize': 12,\n",
    "    'axes.facecolor': 'white',\n",
    "    'axes.linewidth': 1,\n",
    "    'axes.grid': True,\n",
    "    'xtick.labelsize': 12,\n",
    "    'xtick.color': 'black',\n",
    "    'ytick.labelsize': 12,\n",
    "    'ytick.color': 'black',\n",
    "    'legend.fontsize': 12,\n",
    "    'lines.linewidth': 2,\n",
    "    'lines.markersize': 6,\n",
    "    'grid.color': 'lightgray',\n",
    "    'grid.linestyle': '--',\n",
    "    'grid.linewidth': 0.5,\n",
    "    'font.size': 12,\n",
    "    'font.family': 'sans-serif',\n",
    "    'font.sans-serif': ['Arial'],\n",
    "})"
   ]
  },
  {
   "cell_type": "code",
   "execution_count": null,
   "metadata": {},
   "outputs": [],
   "source": [
    "from src.data_processing.data_processing import CasosDengueUF20142023"
   ]
  },
  {
   "cell_type": "code",
   "execution_count": null,
   "metadata": {},
   "outputs": [],
   "source": [
    "df = CasosDengueUF20142023().process_data()\n",
    "print(df.info())\n",
    "print(df.head())"
   ]
  }
 ],
 "metadata": {
  "kernelspec": {
   "display_name": "geo_env",
   "language": "python",
   "name": "python3"
  },
  "language_info": {
   "codemirror_mode": {
    "name": "ipython",
    "version": 3
   },
   "file_extension": ".py",
   "mimetype": "text/x-python",
   "name": "python",
   "nbconvert_exporter": "python",
   "pygments_lexer": "ipython3",
   "version": "3.10.12"
  }
 },
 "nbformat": 4,
 "nbformat_minor": 2
}
